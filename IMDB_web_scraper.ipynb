{
  "nbformat": 4,
  "nbformat_minor": 0,
  "metadata": {
    "colab": {
      "name": "IMDB_scrape.ipynb",
      "provenance": [],
      "authorship_tag": "ABX9TyMqJUfePZBUIKsnOb1P642t",
      "include_colab_link": true
    },
    "kernelspec": {
      "name": "python3",
      "display_name": "Python 3"
    }
  },
  "cells": [
    {
      "cell_type": "markdown",
      "metadata": {
        "id": "view-in-github",
        "colab_type": "text"
      },
      "source": [
        "<a href=\"https://colab.research.google.com/github/QuinnCummings/QuinnCummings.github.io/blob/master/IMDB_web_scraper.ipynb\" target=\"_parent\"><img src=\"https://colab.research.google.com/assets/colab-badge.svg\" alt=\"Open In Colab\"/></a>"
      ]
    },
    {
      "cell_type": "markdown",
      "metadata": {
        "id": "hlF43ntIYBwj"
      },
      "source": [
        "# **Objective:**\r\n",
        "\r\n",
        "The goal of this script is to scrape data of the Top 250 Movies as rated on IMDb.com. After collecting the data we will preform Exploratory Data Analysis(EDA) to model and summarize this data.\r\n"
      ]
    },
    {
      "cell_type": "markdown",
      "metadata": {
        "id": "bnXSUYkBWBHM"
      },
      "source": [
        "# **Web Scraping** \r\n",
        "Using Python I will extract data from the Top 250 Movies as listed on IMDb.com. I will create a DataFrame with this data and export it to a csv file format."
      ]
    },
    {
      "cell_type": "code",
      "metadata": {
        "id": "RqE5uWe0Uud-"
      },
      "source": [
        "#import packages\r\n",
        "import bs4\r\n",
        "from bs4 import BeautifulSoup as soup\r\n",
        "from urllib.request import urlopen as uReq\r\n",
        "import pandas as pd\r\n",
        "import numpy as np\r\n",
        "import matplotlib.pyplot as plt"
      ],
      "execution_count": 2,
      "outputs": []
    },
    {
      "cell_type": "code",
      "metadata": {
        "id": "QgXHHg_AV6vc"
      },
      "source": [
        "top250_url = 'https://www.imdb.com/chart/top/?ref_=nv_mv_250'\r\n",
        "uClient = uReq(top250_url)\r\n",
        "page_html = uClient.read()\r\n",
        "uClient.close()\r\n",
        "page_soup = soup(page_html, 'html.parser')\r\n",
        "\r\n",
        "containers = page_soup.findAll('tr') #tr - list element that contains individual movie data\r\n",
        "containers = containers[1:] #discards useless first element\r\n",
        "\r\n",
        "#create dataframe with columns\r\n",
        "my_df = pd.DataFrame(columns = ['title', 'genre', 'imdb_rating', 'year', 'time_in_minutes',  'director', 'primary_star', 'secondary_star', 'tertiary_star'])\r\n",
        "\r\n",
        "\r\n",
        "#loops through individual movie web pages to scrape data\r\n",
        "for i in range(len(containers)): \r\n",
        "    #\r\n",
        "    ref = containers[i].find('td',{'class':'titleColumn'}).a['href']\r\n",
        "    movie_url = 'https://www.imdb.com'+ ref\r\n",
        "    uClient = uReq(movie_url)\r\n",
        "    movie_page_html = uClient.read()\r\n",
        "    uClient.close()\r\n",
        "\r\n",
        "    #soup object that contains data from the individual movie web page\r\n",
        "    movie_page_soup = soup(movie_page_html, 'html.parser')\r\n",
        "\r\n",
        "    #scrape director of movie\r\n",
        "    plot = movie_page_soup.find('div', {'class':'plot_summary '})\r\n",
        "    director = plot.a.text\r\n",
        "\r\n",
        "    #scrape top 3 stars of the movie\r\n",
        "    stars = movie_page_soup.findAll('div', {'class': 'credit_summary_item'})[2]\r\n",
        "    a = stars.findAll('a')\r\n",
        "    primary_star = a[0].text\r\n",
        "    secondary_star = a[1].text\r\n",
        "    tertiary_star = a[2].text\r\n",
        "\r\n",
        "    #scrape movie length, age_rating, genre\r\n",
        "    subtext = movie_page_soup.find('div',{'class':'subtext'})\r\n",
        "\r\n",
        "    age_rating = subtext.text\r\n",
        "    time = int(subtext.time['datetime'][2:-1]) # play time in minutes\r\n",
        "    primary_genre = subtext.a.text\r\n",
        "\r\n",
        "    #scrape title and rating\r\n",
        "    title = containers[i].find('td',{'class':'titleColumn'}).a.text \r\n",
        "    year = int(containers[i].find('td',{'class':'titleColumn'}).span.text[1:-1])\r\n",
        "    rating = float(containers[i].find('td',{'class':'ratingColumn imdbRating'}).strong.text)\r\n",
        "\r\n",
        "\r\n",
        "    #create dictionary of all scraped data and appends to dataframe\r\n",
        "    my_dict = { 'title': title, 'genre':primary_genre, 'imdb_rating':rating, 'year': year, 'time_in_minutes':time,  'director': director, \r\n",
        "                'primary_star':primary_star, 'secondary_star':secondary_star, 'tertiary_star':tertiary_star }            \r\n",
        "    my_df = my_df.append(my_dict, ignore_index=True)\r\n",
        "\r\n",
        "my_df.to_csv('imdb_scraped') #exports data as a csv file"
      ],
      "execution_count": 3,
      "outputs": []
    },
    {
      "cell_type": "markdown",
      "metadata": {
        "id": "KFNzUMWKXmEi"
      },
      "source": [
        "# **Exploratory Data Analysis**\r\n",
        "I will create exploratory data visualizations describe the data."
      ]
    },
    {
      "cell_type": "code",
      "metadata": {
        "colab": {
          "base_uri": "https://localhost:8080/"
        },
        "id": "GL2IncfPPn-P",
        "outputId": "031e8ebf-e273-4f73-dd2b-8d009e90685e"
      },
      "source": [
        "my_df.shape"
      ],
      "execution_count": 6,
      "outputs": [
        {
          "output_type": "execute_result",
          "data": {
            "text/plain": [
              "(250, 9)"
            ]
          },
          "metadata": {
            "tags": []
          },
          "execution_count": 6
        }
      ]
    },
    {
      "cell_type": "code",
      "metadata": {
        "colab": {
          "base_uri": "https://localhost:8080/",
          "height": 194
        },
        "id": "OoZiFa2HHDRv",
        "outputId": "91745817-cd1d-4715-e2c2-cb6a0cde21cc"
      },
      "source": [
        "my_df.head()"
      ],
      "execution_count": 7,
      "outputs": [
        {
          "output_type": "execute_result",
          "data": {
            "text/html": [
              "<div>\n",
              "<style scoped>\n",
              "    .dataframe tbody tr th:only-of-type {\n",
              "        vertical-align: middle;\n",
              "    }\n",
              "\n",
              "    .dataframe tbody tr th {\n",
              "        vertical-align: top;\n",
              "    }\n",
              "\n",
              "    .dataframe thead th {\n",
              "        text-align: right;\n",
              "    }\n",
              "</style>\n",
              "<table border=\"1\" class=\"dataframe\">\n",
              "  <thead>\n",
              "    <tr style=\"text-align: right;\">\n",
              "      <th></th>\n",
              "      <th>title</th>\n",
              "      <th>genre</th>\n",
              "      <th>imdb_rating</th>\n",
              "      <th>year</th>\n",
              "      <th>time_in_minutes</th>\n",
              "      <th>director</th>\n",
              "      <th>primary_star</th>\n",
              "      <th>secondary_star</th>\n",
              "      <th>tertiary_star</th>\n",
              "    </tr>\n",
              "  </thead>\n",
              "  <tbody>\n",
              "    <tr>\n",
              "      <th>0</th>\n",
              "      <td>The Shawshank Redemption</td>\n",
              "      <td>Drama</td>\n",
              "      <td>9.2</td>\n",
              "      <td>1994</td>\n",
              "      <td>142</td>\n",
              "      <td>Frank Darabont</td>\n",
              "      <td>Tim Robbins</td>\n",
              "      <td>Morgan Freeman</td>\n",
              "      <td>Bob Gunton</td>\n",
              "    </tr>\n",
              "    <tr>\n",
              "      <th>1</th>\n",
              "      <td>The Godfather</td>\n",
              "      <td>Crime</td>\n",
              "      <td>9.1</td>\n",
              "      <td>1972</td>\n",
              "      <td>175</td>\n",
              "      <td>Francis Ford Coppola</td>\n",
              "      <td>Marlon Brando</td>\n",
              "      <td>Al Pacino</td>\n",
              "      <td>James Caan</td>\n",
              "    </tr>\n",
              "    <tr>\n",
              "      <th>2</th>\n",
              "      <td>The Godfather: Part II</td>\n",
              "      <td>Crime</td>\n",
              "      <td>9.0</td>\n",
              "      <td>1974</td>\n",
              "      <td>202</td>\n",
              "      <td>Francis Ford Coppola</td>\n",
              "      <td>Al Pacino</td>\n",
              "      <td>Robert De Niro</td>\n",
              "      <td>Robert Duvall</td>\n",
              "    </tr>\n",
              "    <tr>\n",
              "      <th>3</th>\n",
              "      <td>The Dark Knight</td>\n",
              "      <td>Action</td>\n",
              "      <td>9.0</td>\n",
              "      <td>2008</td>\n",
              "      <td>152</td>\n",
              "      <td>Christopher Nolan</td>\n",
              "      <td>Christian Bale</td>\n",
              "      <td>Heath Ledger</td>\n",
              "      <td>Aaron Eckhart</td>\n",
              "    </tr>\n",
              "    <tr>\n",
              "      <th>4</th>\n",
              "      <td>12 Angry Men</td>\n",
              "      <td>Crime</td>\n",
              "      <td>8.9</td>\n",
              "      <td>1957</td>\n",
              "      <td>96</td>\n",
              "      <td>Sidney Lumet</td>\n",
              "      <td>Henry Fonda</td>\n",
              "      <td>Lee J. Cobb</td>\n",
              "      <td>Martin Balsam</td>\n",
              "    </tr>\n",
              "  </tbody>\n",
              "</table>\n",
              "</div>"
            ],
            "text/plain": [
              "                      title   genre  ...  secondary_star  tertiary_star\n",
              "0  The Shawshank Redemption   Drama  ...  Morgan Freeman     Bob Gunton\n",
              "1             The Godfather   Crime  ...       Al Pacino     James Caan\n",
              "2    The Godfather: Part II   Crime  ...  Robert De Niro  Robert Duvall\n",
              "3           The Dark Knight  Action  ...    Heath Ledger  Aaron Eckhart\n",
              "4              12 Angry Men   Crime  ...     Lee J. Cobb  Martin Balsam\n",
              "\n",
              "[5 rows x 9 columns]"
            ]
          },
          "metadata": {
            "tags": []
          },
          "execution_count": 7
        }
      ]
    },
    {
      "cell_type": "code",
      "metadata": {
        "colab": {
          "base_uri": "https://localhost:8080/",
          "height": 313
        },
        "id": "b_mboFCAS6T8",
        "outputId": "062bf865-5c71-43ef-8e8f-127b02aded96"
      },
      "source": [
        "plt.hist(my_df['imdb_rating'], bins = 6)\r\n",
        "plt.title('Top 250 Movies on IMDb')\r\n",
        "plt.xlabel('IMDb Score')\r\n",
        "plt.ylabel('Count')"
      ],
      "execution_count": 14,
      "outputs": [
        {
          "output_type": "execute_result",
          "data": {
            "text/plain": [
              "Text(0, 0.5, 'Count')"
            ]
          },
          "metadata": {
            "tags": []
          },
          "execution_count": 14
        },
        {
          "output_type": "display_data",
          "data": {
            "image/png": "[encoded data removed]",
            "text/plain": [
              "<Figure size 432x288 with 1 Axes>"
            ]
          },
          "metadata": {
            "tags": [],
            "needs_background": "light"
          }
        }
      ]
    },
    {
      "cell_type": "markdown",
      "metadata": {
        "id": "ePRsfXH-wphM"
      },
      "source": [
        "The distribution of the IMDb shows how difficult it is for a movie to recieve a high rating and that it becomes exponentially more difficult to get a higher rating towards the top of the distrbution."
      ]
    },
    {
      "cell_type": "code",
      "metadata": {
        "colab": {
          "base_uri": "https://localhost:8080/",
          "height": 313
        },
        "id": "dT1uXopeMwoK",
        "outputId": "7f902264-0d71-4d02-ddd9-fc478e3f3482"
      },
      "source": [
        "plt.scatter(my_df['year'],my_df['time_in_minutes'], alpha = 0.50)\r\n",
        "plt.title('Movie Length v. Year')\r\n",
        "plt.xlabel('Year')\r\n",
        "plt.ylabel('Movie Length (minutes)')"
      ],
      "execution_count": 18,
      "outputs": [
        {
          "output_type": "execute_result",
          "data": {
            "text/plain": [
              "Text(0, 0.5, 'Movie Length (minutes)')"
            ]
          },
          "metadata": {
            "tags": []
          },
          "execution_count": 18
        },
        {
          "output_type": "display_data",
          "data": {
            "image/png": "[encoded data removed]",
            "text/plain": [
              "<Figure size 432x288 with 1 Axes>"
            ]
          },
          "metadata": {
            "tags": [],
            "needs_background": "light"
          }
        }
      ]
    },
    {
      "cell_type": "markdown",
      "metadata": {
        "id": "d1-Zh_ihs_Tu"
      },
      "source": [
        "Lets so who some of the best directors are. I am going to select the top 10 directors with the most movies in the Top 250 Movies list. With this data I will create a visual representation of the data with a hsitogram."
      ]
    },
    {
      "cell_type": "code",
      "metadata": {
        "colab": {
          "base_uri": "https://localhost:8080/",
          "height": 374
        },
        "id": "GzlhttseTcm2",
        "outputId": "a7f25148-b4da-4526-bd56-66ed282c15d3"
      },
      "source": [
        "fig1, ax = plt.subplots()\r\n",
        "top10_directors = my_df['director'].value_counts()[:10].index\r\n",
        "plt.setp(ax.xaxis.get_majorticklabels(), ha='left')\r\n",
        "plt.xticks([0.4, 1.3, 2.2, 3.1, 4, 4.9, 5.7, 6.6, 7.5, 8.6], rotation = -45)\r\n",
        "plt.hist(my_df[ my_df['director'].isin(top10_directors)]['director'], edgecolor='black', linewidth=1, rwidth=.8, bins = 10)\r\n",
        "plt.title('Directors With Most Movies in Top 250')\r\n",
        "plt.xlabel('Directors')\r\n",
        "plt.ylabel('Number of Movies in Top 250')"
      ],
      "execution_count": 381,
      "outputs": [
        {
          "output_type": "execute_result",
          "data": {
            "text/plain": [
              "Text(0, 0.5, 'Number of Movies in Top 250')"
            ]
          },
          "metadata": {
            "tags": []
          },
          "execution_count": 381
        },
        {
          "output_type": "display_data",
          "data": {
            "image/png": "[encoded data removed]",
            "text/plain": [
              "<Figure size 432x288 with 1 Axes>"
            ]
          },
          "metadata": {
            "tags": [],
            "needs_background": "light"
          }
        }
      ]
    }
  ]
}